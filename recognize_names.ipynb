{
 "cells": [
  {
   "cell_type": "code",
   "execution_count": 3,
   "metadata": {},
   "outputs": [],
   "source": [
    "# in this notebook we will train the model to recognize names from an input\n",
    "# this is known as \"named entity recognition\" (NER)\n",
    "from flair.data import Corpus\n",
    "from flair.datasets import ColumnCorpus\n",
    "import os"
   ]
  },
  {
   "cell_type": "code",
   "execution_count": null,
   "metadata": {},
   "outputs": [],
   "source": [
    "# create a custom Corpus object with our data\n",
    "\n",
    "# sepcify path to data folder; can manually replace this with the full path too\n",
    "data_folder = os.path.join(os.getcwd(), \"candidate_names.txt\")\n",
    "# first column is text (in out case the name), second column is NER tag\n",
    "# see https://flairnlp.github.io/docs/tutorial-training/how-to-load-custom-dataset\n",
    "columns = {0: 'text', 1: 'ner'}\n",
    "corpus: Corpus = ColumnCorpus(data_folder, columns,\n",
    "                              train_file='train.txt',\n",
    "                              test_file='test.txt',\n",
    "                              dev_file='dev.txt')"
   ]
  }
 ],
 "metadata": {
  "kernelspec": {
   "display_name": "nltk",
   "language": "python",
   "name": "python3"
  },
  "language_info": {
   "codemirror_mode": {
    "name": "ipython",
    "version": 3
   },
   "file_extension": ".py",
   "mimetype": "text/x-python",
   "name": "python",
   "nbconvert_exporter": "python",
   "pygments_lexer": "ipython3",
   "version": "3.11.9"
  }
 },
 "nbformat": 4,
 "nbformat_minor": 2
}
